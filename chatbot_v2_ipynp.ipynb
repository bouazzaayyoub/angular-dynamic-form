{
  "nbformat": 4,
  "nbformat_minor": 0,
  "metadata": {
    "colab": {
      "name": "chatbot v2.ipynp",
      "provenance": [],
      "collapsed_sections": [],
      "include_colab_link": true
    },
    "kernelspec": {
      "display_name": "Python 3",
      "name": "python3"
    }
  },
  "cells": [
    {
      "cell_type": "markdown",
      "metadata": {
        "id": "view-in-github",
        "colab_type": "text"
      },
      "source": [
        "<a href=\"https://colab.research.google.com/github/bouazzaayyoub/angular-dynamic-form/blob/master/chatbot_v2_ipynp.ipynb\" target=\"_parent\"><img src=\"https://colab.research.google.com/assets/colab-badge.svg\" alt=\"Open In Colab\"/></a>"
      ]
    },
    {
      "cell_type": "markdown",
      "metadata": {
        "id": "FHu4KBlUH1Pp"
      },
      "source": [
        "# Importing libraries"
      ]
    },
    {
      "cell_type": "code",
      "metadata": {
        "id": "XaVI23b7dqFX"
      },
      "source": [
        "%%capture\r\n",
        "!python3 -m spacy download fr_core_news_md\r\n",
        "!python3 -m spacy download en_core_web_sm\r\n",
        "!pip install fuzzywuzzy"
      ],
      "execution_count": null,
      "outputs": []
    },
    {
      "cell_type": "code",
      "metadata": {
        "id": "cEK95Q-sLgnm"
      },
      "source": [
        "import nltk\r\n",
        "from keras.models import Sequential\r\n",
        "from keras.layers import Dense, Activation, Dropout\r\n",
        "from keras.optimizers import SGD\r\n",
        "import numpy as np\r\n",
        "from sklearn.model_selection import train_test_split\r\n",
        "from sklearn import metrics\r\n",
        "from nltk.stem.isri import ISRIStemmer\r\n",
        "from nltk.corpus import wordnet\r\n",
        "import fr_core_news_md,en_core_web_sm\r\n",
        "import re,json,random\r\n",
        "from urllib.request import urlopen"
      ],
      "execution_count": null,
      "outputs": []
    },
    {
      "cell_type": "code",
      "metadata": {
        "id": "7t_TMa-ButFA"
      },
      "source": [
        "%%capture\r\n",
        "nltk.download('punkt')\r\n",
        "nltk.download('wordnet')"
      ],
      "execution_count": null,
      "outputs": []
    },
    {
      "cell_type": "markdown",
      "metadata": {
        "id": "-PkfHfTgIAvn"
      },
      "source": [
        "# Useful functions"
      ]
    },
    {
      "cell_type": "markdown",
      "metadata": {
        "id": "5XgDOR8IIIS7"
      },
      "source": [
        "### remove duplication"
      ]
    },
    {
      "cell_type": "code",
      "metadata": {
        "colab": {
          "base_uri": "https://localhost:8080/"
        },
        "id": "Gy5q6_Op8o2i",
        "outputId": "ffaf97cc-ce03-4a81-b0b4-219671f64fb8"
      },
      "source": [
        "def remove_duplication(word):\n",
        "  \"\"\"\n",
        "    if the input word is similar to an english word return the input word \n",
        "    else remove duplications and search again for similar english words\n",
        "  \"\"\"\n",
        "  repeat_regexp = re.compile(r'(\\w*)(\\w)\\2(\\w*)')\n",
        "  repl = r'\\1\\2\\3'\n",
        "  if wordnet.synsets(word):\n",
        "    return word\n",
        "  repl_word = repeat_regexp.sub(repl, word)\n",
        "  if repl_word != word:\n",
        "    return remove_duplication(repl_word)\n",
        "  else:\n",
        "    return repl_word\n",
        "remove_duplication(\"hello\"),remove_duplication(\"blaaaaaabla\")"
      ],
      "execution_count": null,
      "outputs": [
        {
          "output_type": "execute_result",
          "data": {
            "text/plain": [
              "('hello', 'blabla')"
            ]
          },
          "metadata": {
            "tags": []
          },
          "execution_count": 4
        }
      ]
    },
    {
      "cell_type": "markdown",
      "metadata": {
        "id": "0RfpvAYPILn4"
      },
      "source": [
        "### Lemmetization & Stemming"
      ]
    },
    {
      "cell_type": "code",
      "metadata": {
        "id": "iKj434N3MgQb"
      },
      "source": [
        "# Les fonctions pour séparer les mots et les transformer  vers leurs origin gramatical \r\n",
        "spacy_fr=fr_core_news_md.load()\r\n",
        "spacy_en = en_core_web_sm.load()\r\n",
        "# Convertir les francais mots vers leurs origin\r\n",
        "fr_lemmatizer = lambda w:spacy_fr(w)[0].lemma_\r\n",
        "# Convertir les mots anglais vers leurs origin\r\n",
        "eng_lemmatizer = lambda w:spacy_en(w)[0].lemma_\r\n",
        "# Convertir les mots arabe vers leurs origin\r\n",
        "ar_lemmatizer = ISRIStemmer().stem\r\n",
        "lemmatizer = lambda word: ar_lemmatizer(fr_lemmatizer(eng_lemmatizer(remove_duplication(word))))"
      ],
      "execution_count": null,
      "outputs": []
    },
    {
      "cell_type": "code",
      "metadata": {
        "colab": {
          "base_uri": "https://localhost:8080/"
        },
        "id": "oeARyuEqrD37",
        "outputId": "7f65ba0d-378b-4669-c6fa-62a2d062e8cd"
      },
      "source": [
        "lemmatizer(\"السلااام\"),lemmatizer(\"donne\"),lemmatizer(\"yeeux\")"
      ],
      "execution_count": null,
      "outputs": [
        {
          "output_type": "execute_result",
          "data": {
            "text/plain": [
              "('سلم', 'donne', 'oeil')"
            ]
          },
          "metadata": {
            "tags": []
          },
          "execution_count": 6
        }
      ]
    },
    {
      "cell_type": "markdown",
      "metadata": {
        "id": "5_3T5rZ2JzEK"
      },
      "source": [
        "# Importing dataset"
      ]
    },
    {
      "cell_type": "code",
      "metadata": {
        "id": "3KGmmHrBMlOQ"
      },
      "source": [
        "data_file = urlopen('https://raw.githubusercontent.com/DadiAnas/AI-Chatbot-FlaskServer/master/datasets/intents.json').read() #dataset_import\r\n",
        "intents = json.loads(data_file) #dataset_JsonParser"
      ],
      "execution_count": null,
      "outputs": []
    },
    {
      "cell_type": "markdown",
      "metadata": {
        "id": "3QXb5M32dbUm"
      },
      "source": [
        ""
      ]
    },
    {
      "cell_type": "markdown",
      "metadata": {
        "id": "amre6BVyQcxL"
      },
      "source": [
        "#Preparing Dataset\r\n",
        "\r\n",
        "\r\n"
      ]
    },
    {
      "cell_type": "markdown",
      "metadata": {
        "id": "UxnhnNNnKWnR"
      },
      "source": [
        "## Oranize data in lists"
      ]
    },
    {
      "cell_type": "code",
      "metadata": {
        "id": "kDkz_2MiJ_he"
      },
      "source": [
        "#les variables utilisés\n",
        "words=[] #words\n",
        "classes = [] #tag\n",
        "documents = [] # (pattern,tag)\n",
        "ignore_words = ['?', '!',';','.',','] #words to ignore\n",
        "\n",
        "#mettre les mot dans words\n",
        "#catégorisation des patterne selon tag \n",
        "#ajouter tag dans la list classes \n",
        "for intent in intents['intents']:\n",
        "    for pattern in intent['patterns']:\n",
        "        # take each word and tokenize it\n",
        "        w = nltk.word_tokenize(pattern)\n",
        "        words.extend(w)\n",
        "        # adding documents\n",
        "        documents.append((w, intent['tag']))\n",
        "        # adding classes to our class list\n",
        "        classes.append(intent['tag'])"
      ],
      "execution_count": null,
      "outputs": []
    },
    {
      "cell_type": "markdown",
      "metadata": {
        "id": "dQWB4MmtKdOH"
      },
      "source": [
        "## Lemmetazering & steeming words list"
      ]
    },
    {
      "cell_type": "code",
      "metadata": {
        "id": "PiJqqgKiMt4U"
      },
      "source": [
        "#changer les mot vers leurs origine et ignorer \"?,!\r\n",
        "words = [lemmatizer(w.lower()) for w in words if w not in ignore_words]"
      ],
      "execution_count": null,
      "outputs": []
    },
    {
      "cell_type": "markdown",
      "metadata": {
        "id": "9wqzyyIsKpdq"
      },
      "source": [
        "## remove duplication & sort"
      ]
    },
    {
      "cell_type": "code",
      "metadata": {
        "id": "FM9LpDgZKx__"
      },
      "source": [
        "#trier (pour le training) et éviter la redondance\n",
        "words = sorted(list(set(words)))\n",
        "classes = sorted(list(set(classes)))"
      ],
      "execution_count": null,
      "outputs": []
    },
    {
      "cell_type": "code",
      "metadata": {
        "colab": {
          "base_uri": "https://localhost:8080/",
          "height": 229
        },
        "id": "Eg4z1uBeMxBl",
        "outputId": "26f2282e-07e1-40e6-8e2a-1525db34eede"
      },
      "source": [
        "print (len(documents), \"documents\",documents)\r\n",
        "\r\n",
        "print (len(classes), \"classes\", classes)\r\n",
        "\r\n",
        "print (len(words), \"unique lemmatized words\", words)"
      ],
      "execution_count": 1,
      "outputs": [
        {
          "output_type": "error",
          "ename": "NameError",
          "evalue": "ignored",
          "traceback": [
            "\u001b[0;31m---------------------------------------------------------------------------\u001b[0m",
            "\u001b[0;31mNameError\u001b[0m                                 Traceback (most recent call last)",
            "\u001b[0;32m<ipython-input-1-8cc8f9cd6537>\u001b[0m in \u001b[0;36m<module>\u001b[0;34m()\u001b[0m\n\u001b[0;32m----> 1\u001b[0;31m \u001b[0mprint\u001b[0m \u001b[0;34m(\u001b[0m\u001b[0mlen\u001b[0m\u001b[0;34m(\u001b[0m\u001b[0mdocuments\u001b[0m\u001b[0;34m)\u001b[0m\u001b[0;34m,\u001b[0m \u001b[0;34m\"documents\"\u001b[0m\u001b[0;34m,\u001b[0m\u001b[0mdocuments\u001b[0m\u001b[0;34m)\u001b[0m\u001b[0;34m\u001b[0m\u001b[0;34m\u001b[0m\u001b[0m\n\u001b[0m\u001b[1;32m      2\u001b[0m \u001b[0;34m\u001b[0m\u001b[0m\n\u001b[1;32m      3\u001b[0m \u001b[0mprint\u001b[0m \u001b[0;34m(\u001b[0m\u001b[0mlen\u001b[0m\u001b[0;34m(\u001b[0m\u001b[0mclasses\u001b[0m\u001b[0;34m)\u001b[0m\u001b[0;34m,\u001b[0m \u001b[0;34m\"classes\"\u001b[0m\u001b[0;34m,\u001b[0m \u001b[0mclasses\u001b[0m\u001b[0;34m)\u001b[0m\u001b[0;34m\u001b[0m\u001b[0;34m\u001b[0m\u001b[0m\n\u001b[1;32m      4\u001b[0m \u001b[0;34m\u001b[0m\u001b[0m\n\u001b[1;32m      5\u001b[0m \u001b[0mprint\u001b[0m \u001b[0;34m(\u001b[0m\u001b[0mlen\u001b[0m\u001b[0;34m(\u001b[0m\u001b[0mwords\u001b[0m\u001b[0;34m)\u001b[0m\u001b[0;34m,\u001b[0m \u001b[0;34m\"unique lemmatized words\"\u001b[0m\u001b[0;34m,\u001b[0m \u001b[0mwords\u001b[0m\u001b[0;34m)\u001b[0m\u001b[0;34m\u001b[0m\u001b[0;34m\u001b[0m\u001b[0m\n",
            "\u001b[0;31mNameError\u001b[0m: name 'documents' is not defined"
          ]
        }
      ]
    },
    {
      "cell_type": "markdown",
      "metadata": {
        "id": "F2xT3WU1K9lD"
      },
      "source": [
        "### Make Training dataset"
      ]
    },
    {
      "cell_type": "code",
      "metadata": {
        "colab": {
          "base_uri": "https://localhost:8080/"
        },
        "id": "v290y0n1M1Bz",
        "outputId": "17250f72-40c3-44ac-9b5f-1c733258492a"
      },
      "source": [
        "# initializing training data\r\n",
        "training = []\r\n",
        "output_empty = [0] * len(classes)\r\n",
        "for doc in documents:\r\n",
        "    # initializing bag of words\r\n",
        "    bag = []\r\n",
        "    # list of tokenized words for the pattern\r\n",
        "    pattern_words = doc[0]\r\n",
        "    # lemmatize each word - create base word, in attempt to represent related words\r\n",
        "    pattern_words = [lemmatizer(word.lower()) for word in pattern_words]\r\n",
        "    # create our bag of words array with 1, if word match found in current pattern\r\n",
        "    for w in words:\r\n",
        "      bag.append(1 if w in pattern_words else 0)\r\n",
        "\r\n",
        "    # output is a '0' for each tag and '1' for current tag (for each pattern)\r\n",
        "    output_row = list(output_empty)\r\n",
        "    output_row[classes.index(doc[1])] = 1\r\n",
        "\r\n",
        "    training.append([bag, output_row])\r\n",
        "# shuffle our features and turn into np.array\r\n",
        "random.shuffle(training)\r\n",
        "training = np.array(training)\r\n",
        "\r\n",
        "# create train and test lists. X - patterns, Y - intents\r\n",
        "X = list(training[:,0])\r\n",
        "y = list(training[:,1])\r\n",
        "print(\"Training data created\")\r\n",
        "print(X[0])\r\n",
        "print(y[0])"
      ],
      "execution_count": null,
      "outputs": [
        {
          "output_type": "stream",
          "text": [
            "Training data created\n",
            "[0, 0, 0, 0, 0, 0, 0, 0, 0, 0, 0, 0, 0, 0, 0, 0, 0, 0, 0, 0, 0, 0, 0, 0, 0, 0, 0, 0, 0, 0, 0, 0, 0, 0, 0, 0, 0, 0, 0, 0, 0, 0, 0, 0, 0, 0, 0, 0, 0, 0, 0, 0, 0, 0, 0, 0, 0, 0, 0, 0, 0, 0, 0, 0, 0, 0, 0, 0, 0, 0, 0, 0, 0, 0, 0, 0, 0, 0, 0, 0, 0, 0, 0, 0, 0, 0, 0, 0, 0, 0, 0, 0, 0, 0, 0, 0, 0, 0, 0, 0, 0, 0, 0, 0, 0, 0, 0, 0, 0, 0, 0, 0, 0, 0, 0, 0, 0, 0, 0, 0, 0, 0, 0, 0, 0, 0, 0, 0, 0, 0, 0, 0, 0, 0, 0, 0, 0, 0, 0, 0, 0, 0, 0, 0, 0, 0, 0, 0, 0, 0, 0, 0, 0, 0, 0, 0, 0, 0, 0, 0, 0, 0, 0, 0, 0, 0, 0, 0, 0, 0, 0, 0, 0, 0, 0, 0, 0, 0, 0, 0, 0, 0, 0, 0, 0, 0, 0, 0, 0, 0, 0, 0, 0, 0, 0, 0, 0, 0, 0, 0, 0, 0, 0, 0, 0, 0, 0, 0, 0, 0, 0, 0, 0, 0, 0, 0, 0, 0, 0, 0, 0, 0, 0, 0, 0, 0, 0, 0, 0, 0, 0, 0, 0, 0, 0, 0, 0, 0, 0, 0, 0, 0, 0, 0, 0, 0, 0, 0, 0, 0, 0, 0, 0, 0, 0, 0, 0, 0, 0, 0, 0, 0, 0, 0, 0, 0, 0, 0, 0, 0, 0, 0, 0, 0, 0, 0, 0, 0, 0, 0, 0, 0, 0, 0, 0, 0, 0, 0, 1, 0, 0, 0, 0, 0, 0, 0, 0, 0, 0, 0, 0, 0, 0, 0, 0, 0, 0, 0, 0, 0, 0, 0, 0, 0, 0, 0, 0, 0, 0, 0, 0, 0, 0, 0, 0, 0, 0, 0, 0, 0, 0, 0, 0, 0, 1, 0, 0, 0, 0, 0, 0, 0, 0, 0, 0, 0, 0, 0, 0, 0, 0, 0, 0, 0, 0, 0, 0, 0, 0, 0, 0, 0, 0, 0, 0, 0, 0, 0, 0, 0, 0, 0, 0, 0, 0, 0, 0, 0, 0, 0, 0, 0, 0, 0, 0, 0, 1, 0, 0, 0, 0, 0, 0, 0, 0, 0, 0, 0, 0, 1, 0, 0, 0, 0, 0, 0, 0, 0, 0, 0, 0, 0, 0, 0, 0, 0, 0, 0, 0, 0, 0, 1, 0, 0, 0, 0, 0, 0, 0, 0, 0, 0, 0, 0, 0, 0, 0, 0, 0, 0, 0, 0, 0, 0, 0, 0, 0, 0, 0, 0, 0, 0, 0, 0, 0, 0, 0, 0, 0, 0, 0, 0, 0, 0, 0, 0, 1, 0, 0, 0, 0, 0, 0, 0, 0, 0, 0, 0, 0, 0, 0, 0, 0, 0, 0, 0, 0, 0, 0, 0, 0, 0, 0, 0, 0, 0, 0, 0, 0, 0, 0, 0, 0, 0, 0, 0, 0, 0, 0, 0, 0, 0, 1, 0, 0, 0, 0, 0, 0, 0, 0, 0, 0, 0, 0, 0, 0, 0, 0, 0, 0, 0, 0, 0, 0, 0, 0, 0, 0, 0, 0, 0, 0, 0, 0, 0, 0, 0, 0, 0, 0, 0, 0, 0, 0, 0, 0, 0, 0, 0, 0, 0, 0, 0, 0, 0, 0, 0, 0, 0, 0, 0, 0, 0, 1, 0, 0, 0, 0, 0, 0, 0]\n",
            "[0, 0, 0, 1, 0, 0, 0, 0, 0, 0, 0, 0, 0, 0, 0, 0, 0, 0, 0, 0, 0, 0, 0, 0, 0]\n"
          ],
          "name": "stdout"
        },
        {
          "output_type": "stream",
          "text": [
            "/usr/local/lib/python3.6/dist-packages/ipykernel_launcher.py:22: VisibleDeprecationWarning: Creating an ndarray from ragged nested sequences (which is a list-or-tuple of lists-or-tuples-or ndarrays with different lengths or shapes) is deprecated. If you meant to do this, you must specify 'dtype=object' when creating the ndarray\n"
          ],
          "name": "stderr"
        }
      ]
    },
    {
      "cell_type": "code",
      "metadata": {
        "colab": {
          "base_uri": "https://localhost:8080/"
        },
        "id": "UoM9xwBm1C7g",
        "outputId": "28104741-87e6-470a-aaba-d29169ed7c0c"
      },
      "source": [
        "len(X)"
      ],
      "execution_count": null,
      "outputs": [
        {
          "output_type": "execute_result",
          "data": {
            "text/plain": [
              "442"
            ]
          },
          "metadata": {
            "tags": []
          },
          "execution_count": 13
        }
      ]
    },
    {
      "cell_type": "markdown",
      "metadata": {
        "id": "4x7ubYPZHMbF"
      },
      "source": [
        "## Split Dataset"
      ]
    },
    {
      "cell_type": "code",
      "metadata": {
        "colab": {
          "base_uri": "https://localhost:8080/"
        },
        "id": "k8f4SmBlHLuE",
        "outputId": "4b12ee4f-0ecd-4be4-a4b0-d39611ca3988"
      },
      "source": [
        "X_train, X_test, y_train, y_test = train_test_split(X, y, test_size=0.25, random_state=42)\n",
        "len(X_train),len(X_test)"
      ],
      "execution_count": null,
      "outputs": [
        {
          "output_type": "execute_result",
          "data": {
            "text/plain": [
              "(331, 111)"
            ]
          },
          "metadata": {
            "tags": []
          },
          "execution_count": 14
        }
      ]
    },
    {
      "cell_type": "markdown",
      "metadata": {
        "id": "3EOneAUfQRJc"
      },
      "source": [
        "#Build ANN model"
      ]
    },
    {
      "cell_type": "markdown",
      "metadata": {
        "id": "A55b_a1ILP5m"
      },
      "source": [
        "### Initialize the model"
      ]
    },
    {
      "cell_type": "code",
      "metadata": {
        "id": "UKd3giHcLWOi"
      },
      "source": [
        "model = Sequential()"
      ],
      "execution_count": null,
      "outputs": []
    },
    {
      "cell_type": "markdown",
      "metadata": {
        "id": "V-TMJWw9LadN"
      },
      "source": [
        "### Add input layer 128 neurons, relu activation | Adding Droupout to avoid overfitting"
      ]
    },
    {
      "cell_type": "code",
      "metadata": {
        "id": "HlpUIeZlLmCL"
      },
      "source": [
        "model.add(Dense(128, input_shape=(len(X_train[0]),), activation='relu'))\n",
        "model.add(Dropout(0.5))#avoid overfitting "
      ],
      "execution_count": null,
      "outputs": []
    },
    {
      "cell_type": "markdown",
      "metadata": {
        "id": "lmReS7avL0ZB"
      },
      "source": [
        "### Add hidden layer 64 neurons, relu activation | Adding Droupout to avoid overfitting"
      ]
    },
    {
      "cell_type": "code",
      "metadata": {
        "id": "9Ekhw7BnLz8c"
      },
      "source": [
        "model.add(Dense(64, activation='relu'))\n",
        "model.add(Dropout(0.5))"
      ],
      "execution_count": null,
      "outputs": []
    },
    {
      "cell_type": "markdown",
      "metadata": {
        "id": "xXeeoUX0L8O8"
      },
      "source": [
        "### Add output layer number of neurons equal to number of intents, softmax activation "
      ]
    },
    {
      "cell_type": "code",
      "metadata": {
        "id": "9KAPiHVMMjqM"
      },
      "source": [
        "model.add(Dense(len(y_train[0]), activation='softmax'))"
      ],
      "execution_count": null,
      "outputs": []
    },
    {
      "cell_type": "markdown",
      "metadata": {
        "id": "wUXIwDPGMm2V"
      },
      "source": [
        "### Compile model. Stochastic gradient descent with Nesterov to accelerated gradient "
      ]
    },
    {
      "cell_type": "code",
      "metadata": {
        "id": "lhh6HzFGMoEp"
      },
      "source": [
        "sgd = SGD(lr=0.01, decay=1e-6, momentum=0.9, nesterov=True)\n",
        "model.compile(loss='categorical_crossentropy', optimizer=sgd, metrics=['accuracy'])"
      ],
      "execution_count": null,
      "outputs": []
    },
    {
      "cell_type": "markdown",
      "metadata": {
        "id": "blGo6Z6LM5PI"
      },
      "source": [
        "Build the model"
      ]
    },
    {
      "cell_type": "code",
      "metadata": {
        "id": "AK_qIwXFM3tG"
      },
      "source": [
        "model.build()"
      ],
      "execution_count": null,
      "outputs": []
    },
    {
      "cell_type": "code",
      "metadata": {
        "colab": {
          "base_uri": "https://localhost:8080/"
        },
        "id": "A2jS9zILfUvi",
        "outputId": "09375dd8-d438-4d15-8ae8-f254ee000466"
      },
      "source": [
        "model.summary()"
      ],
      "execution_count": null,
      "outputs": [
        {
          "output_type": "stream",
          "text": [
            "Model: \"sequential\"\n",
            "_________________________________________________________________\n",
            "Layer (type)                 Output Shape              Param #   \n",
            "=================================================================\n",
            "dense (Dense)                (None, 128)               74624     \n",
            "_________________________________________________________________\n",
            "dropout (Dropout)            (None, 128)               0         \n",
            "_________________________________________________________________\n",
            "dense_1 (Dense)              (None, 64)                8256      \n",
            "_________________________________________________________________\n",
            "dropout_1 (Dropout)          (None, 64)                0         \n",
            "_________________________________________________________________\n",
            "dense_2 (Dense)              (None, 25)                1625      \n",
            "=================================================================\n",
            "Total params: 84,505\n",
            "Trainable params: 84,505\n",
            "Non-trainable params: 0\n",
            "_________________________________________________________________\n"
          ],
          "name": "stdout"
        }
      ]
    },
    {
      "cell_type": "markdown",
      "metadata": {
        "id": "fVgZfURFQuGH"
      },
      "source": [
        "#Training model"
      ]
    },
    {
      "cell_type": "code",
      "metadata": {
        "colab": {
          "base_uri": "https://localhost:8080/"
        },
        "id": "PrrDPdshM92m",
        "outputId": "d24912d6-7632-43cc-e748-28ac56dbeb7d"
      },
      "source": [
        "#fitting the model\r\n",
        "model.fit(np.array(X_train), np.array(y_train), epochs=200, batch_size=10,  verbose=1)"
      ],
      "execution_count": null,
      "outputs": [
        {
          "output_type": "stream",
          "text": [
            "Epoch 1/200\n",
            "34/34 [==============================] - 1s 1ms/step - loss: 3.1978 - accuracy: 0.0857\n",
            "Epoch 2/200\n",
            "34/34 [==============================] - 0s 1ms/step - loss: 3.1371 - accuracy: 0.0908\n",
            "Epoch 3/200\n",
            "34/34 [==============================] - 0s 2ms/step - loss: 3.0554 - accuracy: 0.1154\n",
            "Epoch 4/200\n",
            "34/34 [==============================] - 0s 2ms/step - loss: 3.0227 - accuracy: 0.1085\n",
            "Epoch 5/200\n",
            "34/34 [==============================] - 0s 1ms/step - loss: 2.9503 - accuracy: 0.1574\n",
            "Epoch 6/200\n",
            "34/34 [==============================] - 0s 1ms/step - loss: 2.8723 - accuracy: 0.1675\n",
            "Epoch 7/200\n",
            "34/34 [==============================] - 0s 1ms/step - loss: 2.7518 - accuracy: 0.2299\n",
            "Epoch 8/200\n",
            "34/34 [==============================] - 0s 1ms/step - loss: 2.6904 - accuracy: 0.2271\n",
            "Epoch 9/200\n",
            "34/34 [==============================] - 0s 1ms/step - loss: 2.6055 - accuracy: 0.2567\n",
            "Epoch 10/200\n",
            "34/34 [==============================] - 0s 1ms/step - loss: 2.4810 - accuracy: 0.2978\n",
            "Epoch 11/200\n",
            "34/34 [==============================] - 0s 1ms/step - loss: 2.4414 - accuracy: 0.2828\n",
            "Epoch 12/200\n",
            "34/34 [==============================] - 0s 1ms/step - loss: 2.3004 - accuracy: 0.3418\n",
            "Epoch 13/200\n",
            "34/34 [==============================] - 0s 1ms/step - loss: 2.4310 - accuracy: 0.2915\n",
            "Epoch 14/200\n",
            "34/34 [==============================] - 0s 1ms/step - loss: 2.2120 - accuracy: 0.3517\n",
            "Epoch 15/200\n",
            "34/34 [==============================] - 0s 1ms/step - loss: 2.1576 - accuracy: 0.3883\n",
            "Epoch 16/200\n",
            "34/34 [==============================] - 0s 1ms/step - loss: 2.0764 - accuracy: 0.3709\n",
            "Epoch 17/200\n",
            "34/34 [==============================] - 0s 1ms/step - loss: 1.9128 - accuracy: 0.4742\n",
            "Epoch 18/200\n",
            "34/34 [==============================] - 0s 2ms/step - loss: 1.9661 - accuracy: 0.4948\n",
            "Epoch 19/200\n",
            "34/34 [==============================] - 0s 1ms/step - loss: 1.8029 - accuracy: 0.5064\n",
            "Epoch 20/200\n",
            "34/34 [==============================] - 0s 2ms/step - loss: 1.7700 - accuracy: 0.5394\n",
            "Epoch 21/200\n",
            "34/34 [==============================] - 0s 1ms/step - loss: 1.7530 - accuracy: 0.5056\n",
            "Epoch 22/200\n",
            "34/34 [==============================] - 0s 1ms/step - loss: 1.6562 - accuracy: 0.5512\n",
            "Epoch 23/200\n",
            "34/34 [==============================] - 0s 2ms/step - loss: 1.4963 - accuracy: 0.6233\n",
            "Epoch 24/200\n",
            "34/34 [==============================] - 0s 2ms/step - loss: 1.4568 - accuracy: 0.6124\n",
            "Epoch 25/200\n",
            "34/34 [==============================] - 0s 2ms/step - loss: 1.4285 - accuracy: 0.5899\n",
            "Epoch 26/200\n",
            "34/34 [==============================] - 0s 1ms/step - loss: 1.3567 - accuracy: 0.6306\n",
            "Epoch 27/200\n",
            "34/34 [==============================] - 0s 1ms/step - loss: 1.3474 - accuracy: 0.6436\n",
            "Epoch 28/200\n",
            "34/34 [==============================] - 0s 1ms/step - loss: 1.2059 - accuracy: 0.6890\n",
            "Epoch 29/200\n",
            "34/34 [==============================] - 0s 1ms/step - loss: 1.1179 - accuracy: 0.6881\n",
            "Epoch 30/200\n",
            "34/34 [==============================] - 0s 2ms/step - loss: 1.0202 - accuracy: 0.7119\n",
            "Epoch 31/200\n",
            "34/34 [==============================] - 0s 1ms/step - loss: 1.0319 - accuracy: 0.7539\n",
            "Epoch 32/200\n",
            "34/34 [==============================] - 0s 2ms/step - loss: 1.0231 - accuracy: 0.6896\n",
            "Epoch 33/200\n",
            "34/34 [==============================] - 0s 1ms/step - loss: 0.9776 - accuracy: 0.7248\n",
            "Epoch 34/200\n",
            "34/34 [==============================] - 0s 1ms/step - loss: 0.8923 - accuracy: 0.7664\n",
            "Epoch 35/200\n",
            "34/34 [==============================] - 0s 1ms/step - loss: 0.9693 - accuracy: 0.7412\n",
            "Epoch 36/200\n",
            "34/34 [==============================] - 0s 1ms/step - loss: 0.8458 - accuracy: 0.7857\n",
            "Epoch 37/200\n",
            "34/34 [==============================] - 0s 1ms/step - loss: 0.7007 - accuracy: 0.8320\n",
            "Epoch 38/200\n",
            "34/34 [==============================] - 0s 1ms/step - loss: 0.6817 - accuracy: 0.8416\n",
            "Epoch 39/200\n",
            "34/34 [==============================] - 0s 1ms/step - loss: 0.6330 - accuracy: 0.8330\n",
            "Epoch 40/200\n",
            "34/34 [==============================] - 0s 1ms/step - loss: 0.6704 - accuracy: 0.8111\n",
            "Epoch 41/200\n",
            "34/34 [==============================] - 0s 1ms/step - loss: 0.6925 - accuracy: 0.8105\n",
            "Epoch 42/200\n",
            "34/34 [==============================] - 0s 1ms/step - loss: 0.6442 - accuracy: 0.8242\n",
            "Epoch 43/200\n",
            "34/34 [==============================] - 0s 1ms/step - loss: 0.5595 - accuracy: 0.8747\n",
            "Epoch 44/200\n",
            "34/34 [==============================] - 0s 1ms/step - loss: 0.5631 - accuracy: 0.8385\n",
            "Epoch 45/200\n",
            "34/34 [==============================] - 0s 1ms/step - loss: 0.5072 - accuracy: 0.8780\n",
            "Epoch 46/200\n",
            "34/34 [==============================] - 0s 1ms/step - loss: 0.4737 - accuracy: 0.9009\n",
            "Epoch 47/200\n",
            "34/34 [==============================] - 0s 2ms/step - loss: 0.5044 - accuracy: 0.8713\n",
            "Epoch 48/200\n",
            "34/34 [==============================] - 0s 1ms/step - loss: 0.4419 - accuracy: 0.8987\n",
            "Epoch 49/200\n",
            "34/34 [==============================] - 0s 1ms/step - loss: 0.3924 - accuracy: 0.8850\n",
            "Epoch 50/200\n",
            "34/34 [==============================] - 0s 1ms/step - loss: 0.4186 - accuracy: 0.9150\n",
            "Epoch 51/200\n",
            "34/34 [==============================] - 0s 1ms/step - loss: 0.4593 - accuracy: 0.8790\n",
            "Epoch 52/200\n",
            "34/34 [==============================] - 0s 1ms/step - loss: 0.3886 - accuracy: 0.8918\n",
            "Epoch 53/200\n",
            "34/34 [==============================] - 0s 1ms/step - loss: 0.3758 - accuracy: 0.8791\n",
            "Epoch 54/200\n",
            "34/34 [==============================] - 0s 2ms/step - loss: 0.3427 - accuracy: 0.9108\n",
            "Epoch 55/200\n",
            "34/34 [==============================] - 0s 1ms/step - loss: 0.3820 - accuracy: 0.8923\n",
            "Epoch 56/200\n",
            "34/34 [==============================] - 0s 1ms/step - loss: 0.3252 - accuracy: 0.9437\n",
            "Epoch 57/200\n",
            "34/34 [==============================] - 0s 1ms/step - loss: 0.2912 - accuracy: 0.9410\n",
            "Epoch 58/200\n",
            "34/34 [==============================] - 0s 1ms/step - loss: 0.3399 - accuracy: 0.8873\n",
            "Epoch 59/200\n",
            "34/34 [==============================] - 0s 1ms/step - loss: 0.3208 - accuracy: 0.9197\n",
            "Epoch 60/200\n",
            "34/34 [==============================] - 0s 2ms/step - loss: 0.2954 - accuracy: 0.9301\n",
            "Epoch 61/200\n",
            "34/34 [==============================] - 0s 1ms/step - loss: 0.2940 - accuracy: 0.9484\n",
            "Epoch 62/200\n",
            "34/34 [==============================] - 0s 1ms/step - loss: 0.3014 - accuracy: 0.9298\n",
            "Epoch 63/200\n",
            "34/34 [==============================] - 0s 1ms/step - loss: 0.3057 - accuracy: 0.9257\n",
            "Epoch 64/200\n",
            "34/34 [==============================] - 0s 1ms/step - loss: 0.2488 - accuracy: 0.9567\n",
            "Epoch 65/200\n",
            "34/34 [==============================] - 0s 2ms/step - loss: 0.2446 - accuracy: 0.9545\n",
            "Epoch 66/200\n",
            "34/34 [==============================] - 0s 1ms/step - loss: 0.1722 - accuracy: 0.9797\n",
            "Epoch 67/200\n",
            "34/34 [==============================] - 0s 2ms/step - loss: 0.2471 - accuracy: 0.9550\n",
            "Epoch 68/200\n",
            "34/34 [==============================] - 0s 2ms/step - loss: 0.2495 - accuracy: 0.9375\n",
            "Epoch 69/200\n",
            "34/34 [==============================] - 0s 1ms/step - loss: 0.1896 - accuracy: 0.9652\n",
            "Epoch 70/200\n",
            "34/34 [==============================] - 0s 1ms/step - loss: 0.2040 - accuracy: 0.9417\n",
            "Epoch 71/200\n",
            "34/34 [==============================] - 0s 1ms/step - loss: 0.2426 - accuracy: 0.9426\n",
            "Epoch 72/200\n",
            "34/34 [==============================] - 0s 1ms/step - loss: 0.3325 - accuracy: 0.9199\n",
            "Epoch 73/200\n",
            "34/34 [==============================] - 0s 1ms/step - loss: 0.2539 - accuracy: 0.9465\n",
            "Epoch 74/200\n",
            "34/34 [==============================] - 0s 1ms/step - loss: 0.1839 - accuracy: 0.9485\n",
            "Epoch 75/200\n",
            "34/34 [==============================] - 0s 2ms/step - loss: 0.1880 - accuracy: 0.9510\n",
            "Epoch 76/200\n",
            "34/34 [==============================] - 0s 1ms/step - loss: 0.3216 - accuracy: 0.9033\n",
            "Epoch 77/200\n",
            "34/34 [==============================] - 0s 1ms/step - loss: 0.2383 - accuracy: 0.9448\n",
            "Epoch 78/200\n",
            "34/34 [==============================] - 0s 2ms/step - loss: 0.1698 - accuracy: 0.9589\n",
            "Epoch 79/200\n",
            "34/34 [==============================] - 0s 1ms/step - loss: 0.2414 - accuracy: 0.9424\n",
            "Epoch 80/200\n",
            "34/34 [==============================] - 0s 2ms/step - loss: 0.1784 - accuracy: 0.9579\n",
            "Epoch 81/200\n",
            "34/34 [==============================] - 0s 1ms/step - loss: 0.1972 - accuracy: 0.9449\n",
            "Epoch 82/200\n",
            "34/34 [==============================] - 0s 2ms/step - loss: 0.1469 - accuracy: 0.9636\n",
            "Epoch 83/200\n",
            "34/34 [==============================] - 0s 1ms/step - loss: 0.1802 - accuracy: 0.9612\n",
            "Epoch 84/200\n",
            "34/34 [==============================] - 0s 1ms/step - loss: 0.1188 - accuracy: 0.9775\n",
            "Epoch 85/200\n",
            "34/34 [==============================] - 0s 1ms/step - loss: 0.1794 - accuracy: 0.9683\n",
            "Epoch 86/200\n",
            "34/34 [==============================] - 0s 1ms/step - loss: 0.1582 - accuracy: 0.9458\n",
            "Epoch 87/200\n",
            "34/34 [==============================] - 0s 1ms/step - loss: 0.1389 - accuracy: 0.9635\n",
            "Epoch 88/200\n",
            "34/34 [==============================] - 0s 1ms/step - loss: 0.1554 - accuracy: 0.9669\n",
            "Epoch 89/200\n",
            "34/34 [==============================] - 0s 1ms/step - loss: 0.1594 - accuracy: 0.9497\n",
            "Epoch 90/200\n",
            "34/34 [==============================] - 0s 1ms/step - loss: 0.1288 - accuracy: 0.9799\n",
            "Epoch 91/200\n",
            "34/34 [==============================] - 0s 1ms/step - loss: 0.1521 - accuracy: 0.9418\n",
            "Epoch 92/200\n",
            "34/34 [==============================] - 0s 1ms/step - loss: 0.1431 - accuracy: 0.9738\n",
            "Epoch 93/200\n",
            "34/34 [==============================] - 0s 2ms/step - loss: 0.1277 - accuracy: 0.9732\n",
            "Epoch 94/200\n",
            "34/34 [==============================] - 0s 1ms/step - loss: 0.1986 - accuracy: 0.9524\n",
            "Epoch 95/200\n",
            "34/34 [==============================] - 0s 2ms/step - loss: 0.1320 - accuracy: 0.9630\n",
            "Epoch 96/200\n",
            "34/34 [==============================] - 0s 1ms/step - loss: 0.1169 - accuracy: 0.9746\n",
            "Epoch 97/200\n",
            "34/34 [==============================] - 0s 2ms/step - loss: 0.1059 - accuracy: 0.9783\n",
            "Epoch 98/200\n",
            "34/34 [==============================] - 0s 1ms/step - loss: 0.1787 - accuracy: 0.9481\n",
            "Epoch 99/200\n",
            "34/34 [==============================] - 0s 2ms/step - loss: 0.1817 - accuracy: 0.9550\n",
            "Epoch 100/200\n",
            "34/34 [==============================] - 0s 1ms/step - loss: 0.1657 - accuracy: 0.9494\n",
            "Epoch 101/200\n",
            "34/34 [==============================] - 0s 1ms/step - loss: 0.1153 - accuracy: 0.9689\n",
            "Epoch 102/200\n",
            "34/34 [==============================] - 0s 1ms/step - loss: 0.1583 - accuracy: 0.9560\n",
            "Epoch 103/200\n",
            "34/34 [==============================] - 0s 1ms/step - loss: 0.1525 - accuracy: 0.9689\n",
            "Epoch 104/200\n",
            "34/34 [==============================] - 0s 2ms/step - loss: 0.2263 - accuracy: 0.9361\n",
            "Epoch 105/200\n",
            "34/34 [==============================] - 0s 1ms/step - loss: 0.1138 - accuracy: 0.9736\n",
            "Epoch 106/200\n",
            "34/34 [==============================] - 0s 2ms/step - loss: 0.1959 - accuracy: 0.9517\n",
            "Epoch 107/200\n",
            "34/34 [==============================] - 0s 1ms/step - loss: 0.1790 - accuracy: 0.9530\n",
            "Epoch 108/200\n",
            "34/34 [==============================] - 0s 1ms/step - loss: 0.1170 - accuracy: 0.9747\n",
            "Epoch 109/200\n",
            "34/34 [==============================] - 0s 1ms/step - loss: 0.1129 - accuracy: 0.9814\n",
            "Epoch 110/200\n",
            "34/34 [==============================] - 0s 1ms/step - loss: 0.1271 - accuracy: 0.9764\n",
            "Epoch 111/200\n",
            "34/34 [==============================] - 0s 1ms/step - loss: 0.1358 - accuracy: 0.9775\n",
            "Epoch 112/200\n",
            "34/34 [==============================] - 0s 962us/step - loss: 0.0964 - accuracy: 0.9739\n",
            "Epoch 113/200\n",
            "34/34 [==============================] - 0s 1ms/step - loss: 0.1806 - accuracy: 0.9554\n",
            "Epoch 114/200\n",
            "34/34 [==============================] - 0s 1ms/step - loss: 0.0908 - accuracy: 0.9911\n",
            "Epoch 115/200\n",
            "34/34 [==============================] - 0s 1ms/step - loss: 0.0881 - accuracy: 0.9742\n",
            "Epoch 116/200\n",
            "34/34 [==============================] - 0s 1ms/step - loss: 0.0994 - accuracy: 0.9661\n",
            "Epoch 117/200\n",
            "34/34 [==============================] - 0s 1ms/step - loss: 0.1383 - accuracy: 0.9575\n",
            "Epoch 118/200\n",
            "34/34 [==============================] - 0s 1ms/step - loss: 0.1329 - accuracy: 0.9674\n",
            "Epoch 119/200\n",
            "34/34 [==============================] - 0s 1ms/step - loss: 0.1183 - accuracy: 0.9729\n",
            "Epoch 120/200\n",
            "34/34 [==============================] - 0s 1ms/step - loss: 0.1524 - accuracy: 0.9592\n",
            "Epoch 121/200\n",
            "34/34 [==============================] - 0s 2ms/step - loss: 0.0751 - accuracy: 0.9739\n",
            "Epoch 122/200\n",
            "34/34 [==============================] - 0s 1ms/step - loss: 0.0599 - accuracy: 0.9945\n",
            "Epoch 123/200\n",
            "34/34 [==============================] - 0s 1ms/step - loss: 0.0995 - accuracy: 0.9622\n",
            "Epoch 124/200\n",
            "34/34 [==============================] - 0s 1ms/step - loss: 0.0693 - accuracy: 0.9851\n",
            "Epoch 125/200\n",
            "34/34 [==============================] - 0s 1ms/step - loss: 0.1100 - accuracy: 0.9710\n",
            "Epoch 126/200\n",
            "34/34 [==============================] - 0s 2ms/step - loss: 0.0829 - accuracy: 0.9747\n",
            "Epoch 127/200\n",
            "34/34 [==============================] - 0s 1ms/step - loss: 0.0505 - accuracy: 0.9989\n",
            "Epoch 128/200\n",
            "34/34 [==============================] - 0s 1ms/step - loss: 0.0821 - accuracy: 0.9807\n",
            "Epoch 129/200\n",
            "34/34 [==============================] - 0s 1ms/step - loss: 0.0673 - accuracy: 0.9869\n",
            "Epoch 130/200\n",
            "34/34 [==============================] - 0s 1ms/step - loss: 0.0726 - accuracy: 0.9957\n",
            "Epoch 131/200\n",
            "34/34 [==============================] - 0s 1ms/step - loss: 0.0716 - accuracy: 0.9911\n",
            "Epoch 132/200\n",
            "34/34 [==============================] - 0s 2ms/step - loss: 0.1058 - accuracy: 0.9635\n",
            "Epoch 133/200\n",
            "34/34 [==============================] - 0s 1ms/step - loss: 0.0925 - accuracy: 0.9824\n",
            "Epoch 134/200\n",
            "34/34 [==============================] - 0s 1ms/step - loss: 0.0452 - accuracy: 0.9916\n",
            "Epoch 135/200\n",
            "34/34 [==============================] - 0s 1ms/step - loss: 0.1041 - accuracy: 0.9676\n",
            "Epoch 136/200\n",
            "34/34 [==============================] - 0s 1ms/step - loss: 0.0804 - accuracy: 0.9807\n",
            "Epoch 137/200\n",
            "34/34 [==============================] - 0s 1ms/step - loss: 0.0831 - accuracy: 0.9769\n",
            "Epoch 138/200\n",
            "34/34 [==============================] - 0s 1ms/step - loss: 0.1084 - accuracy: 0.9647\n",
            "Epoch 139/200\n",
            "34/34 [==============================] - 0s 947us/step - loss: 0.0697 - accuracy: 0.9865\n",
            "Epoch 140/200\n",
            "34/34 [==============================] - 0s 2ms/step - loss: 0.1306 - accuracy: 0.9473\n",
            "Epoch 141/200\n",
            "34/34 [==============================] - 0s 1ms/step - loss: 0.0986 - accuracy: 0.9649\n",
            "Epoch 142/200\n",
            "34/34 [==============================] - 0s 1ms/step - loss: 0.0474 - accuracy: 0.9968\n",
            "Epoch 143/200\n",
            "34/34 [==============================] - 0s 1ms/step - loss: 0.1171 - accuracy: 0.9703\n",
            "Epoch 144/200\n",
            "34/34 [==============================] - 0s 1ms/step - loss: 0.1189 - accuracy: 0.9636\n",
            "Epoch 145/200\n",
            "34/34 [==============================] - 0s 2ms/step - loss: 0.0650 - accuracy: 0.9871\n",
            "Epoch 146/200\n",
            "34/34 [==============================] - 0s 2ms/step - loss: 0.0722 - accuracy: 0.9792\n",
            "Epoch 147/200\n",
            "34/34 [==============================] - 0s 2ms/step - loss: 0.0652 - accuracy: 0.9845\n",
            "Epoch 148/200\n",
            "34/34 [==============================] - 0s 1ms/step - loss: 0.0580 - accuracy: 0.9874\n",
            "Epoch 149/200\n",
            "34/34 [==============================] - 0s 2ms/step - loss: 0.1153 - accuracy: 0.9654\n",
            "Epoch 150/200\n",
            "34/34 [==============================] - 0s 1ms/step - loss: 0.0783 - accuracy: 0.9817\n",
            "Epoch 151/200\n",
            "34/34 [==============================] - 0s 1ms/step - loss: 0.0925 - accuracy: 0.9730\n",
            "Epoch 152/200\n",
            "34/34 [==============================] - 0s 2ms/step - loss: 0.0585 - accuracy: 0.9864\n",
            "Epoch 153/200\n",
            "34/34 [==============================] - 0s 2ms/step - loss: 0.0682 - accuracy: 0.9814\n",
            "Epoch 154/200\n",
            "34/34 [==============================] - 0s 1ms/step - loss: 0.0576 - accuracy: 0.9783\n",
            "Epoch 155/200\n",
            "34/34 [==============================] - 0s 2ms/step - loss: 0.0575 - accuracy: 0.9912\n",
            "Epoch 156/200\n",
            "34/34 [==============================] - 0s 1ms/step - loss: 0.0740 - accuracy: 0.9873\n",
            "Epoch 157/200\n",
            "34/34 [==============================] - 0s 1ms/step - loss: 0.0562 - accuracy: 0.9953\n",
            "Epoch 158/200\n",
            "34/34 [==============================] - 0s 1ms/step - loss: 0.0799 - accuracy: 0.9779\n",
            "Epoch 159/200\n",
            "34/34 [==============================] - 0s 2ms/step - loss: 0.0731 - accuracy: 0.9749\n",
            "Epoch 160/200\n",
            "34/34 [==============================] - 0s 1ms/step - loss: 0.0543 - accuracy: 0.9873\n",
            "Epoch 161/200\n",
            "34/34 [==============================] - 0s 1ms/step - loss: 0.0622 - accuracy: 0.9887\n",
            "Epoch 162/200\n",
            "34/34 [==============================] - 0s 1ms/step - loss: 0.0595 - accuracy: 0.9848\n",
            "Epoch 163/200\n",
            "34/34 [==============================] - 0s 1ms/step - loss: 0.0621 - accuracy: 0.9853\n",
            "Epoch 164/200\n",
            "34/34 [==============================] - 0s 1ms/step - loss: 0.0452 - accuracy: 0.9866\n",
            "Epoch 165/200\n",
            "34/34 [==============================] - 0s 2ms/step - loss: 0.0778 - accuracy: 0.9721\n",
            "Epoch 166/200\n",
            "34/34 [==============================] - 0s 2ms/step - loss: 0.0705 - accuracy: 0.9714\n",
            "Epoch 167/200\n",
            "34/34 [==============================] - 0s 2ms/step - loss: 0.0687 - accuracy: 0.9763\n",
            "Epoch 168/200\n",
            "34/34 [==============================] - 0s 1ms/step - loss: 0.0736 - accuracy: 0.9897\n",
            "Epoch 169/200\n",
            "34/34 [==============================] - 0s 2ms/step - loss: 0.0580 - accuracy: 0.9874\n",
            "Epoch 170/200\n",
            "34/34 [==============================] - 0s 1ms/step - loss: 0.0818 - accuracy: 0.9763\n",
            "Epoch 171/200\n",
            "34/34 [==============================] - 0s 2ms/step - loss: 0.0644 - accuracy: 0.9919\n",
            "Epoch 172/200\n",
            "34/34 [==============================] - 0s 1ms/step - loss: 0.0916 - accuracy: 0.9663\n",
            "Epoch 173/200\n",
            "34/34 [==============================] - 0s 1ms/step - loss: 0.1211 - accuracy: 0.9695\n",
            "Epoch 174/200\n",
            "34/34 [==============================] - 0s 1ms/step - loss: 0.0677 - accuracy: 0.9848\n",
            "Epoch 175/200\n",
            "34/34 [==============================] - 0s 1ms/step - loss: 0.1197 - accuracy: 0.9666\n",
            "Epoch 176/200\n",
            "34/34 [==============================] - 0s 1ms/step - loss: 0.0767 - accuracy: 0.9857\n",
            "Epoch 177/200\n",
            "34/34 [==============================] - 0s 2ms/step - loss: 0.0895 - accuracy: 0.9775\n",
            "Epoch 178/200\n",
            "34/34 [==============================] - 0s 1ms/step - loss: 0.0482 - accuracy: 0.9872\n",
            "Epoch 179/200\n",
            "34/34 [==============================] - 0s 1ms/step - loss: 0.0848 - accuracy: 0.9732\n",
            "Epoch 180/200\n",
            "34/34 [==============================] - 0s 1ms/step - loss: 0.0488 - accuracy: 0.9962\n",
            "Epoch 181/200\n",
            "34/34 [==============================] - 0s 1ms/step - loss: 0.0889 - accuracy: 0.9714\n",
            "Epoch 182/200\n",
            "34/34 [==============================] - 0s 1ms/step - loss: 0.0446 - accuracy: 0.9870\n",
            "Epoch 183/200\n",
            "34/34 [==============================] - 0s 1ms/step - loss: 0.0732 - accuracy: 0.9759\n",
            "Epoch 184/200\n",
            "34/34 [==============================] - 0s 1ms/step - loss: 0.0512 - accuracy: 0.9879\n",
            "Epoch 185/200\n",
            "34/34 [==============================] - 0s 1ms/step - loss: 0.0679 - accuracy: 0.9815\n",
            "Epoch 186/200\n",
            "34/34 [==============================] - 0s 2ms/step - loss: 0.1046 - accuracy: 0.9666\n",
            "Epoch 187/200\n",
            "34/34 [==============================] - 0s 2ms/step - loss: 0.0745 - accuracy: 0.9875\n",
            "Epoch 188/200\n",
            "34/34 [==============================] - 0s 2ms/step - loss: 0.0465 - accuracy: 0.9905\n",
            "Epoch 189/200\n",
            "34/34 [==============================] - 0s 1ms/step - loss: 0.1009 - accuracy: 0.9700\n",
            "Epoch 190/200\n",
            "34/34 [==============================] - 0s 1ms/step - loss: 0.0749 - accuracy: 0.9797\n",
            "Epoch 191/200\n",
            "34/34 [==============================] - 0s 2ms/step - loss: 0.0493 - accuracy: 0.9844\n",
            "Epoch 192/200\n",
            "34/34 [==============================] - 0s 1ms/step - loss: 0.0852 - accuracy: 0.9668\n",
            "Epoch 193/200\n",
            "34/34 [==============================] - 0s 1ms/step - loss: 0.0463 - accuracy: 0.9822\n",
            "Epoch 194/200\n",
            "34/34 [==============================] - 0s 1ms/step - loss: 0.0516 - accuracy: 0.9875\n",
            "Epoch 195/200\n",
            "34/34 [==============================] - 0s 1ms/step - loss: 0.0938 - accuracy: 0.9782\n",
            "Epoch 196/200\n",
            "34/34 [==============================] - 0s 1ms/step - loss: 0.0455 - accuracy: 0.9951\n",
            "Epoch 197/200\n",
            "34/34 [==============================] - 0s 1ms/step - loss: 0.0576 - accuracy: 0.9727\n",
            "Epoch 198/200\n",
            "34/34 [==============================] - 0s 1ms/step - loss: 0.0311 - accuracy: 0.9939\n",
            "Epoch 199/200\n",
            "34/34 [==============================] - 0s 1ms/step - loss: 0.0496 - accuracy: 0.9860\n",
            "Epoch 200/200\n",
            "34/34 [==============================] - 0s 1ms/step - loss: 0.0856 - accuracy: 0.9777\n"
          ],
          "name": "stdout"
        },
        {
          "output_type": "execute_result",
          "data": {
            "text/plain": [
              "<tensorflow.python.keras.callbacks.History at 0x7fc3b4561208>"
            ]
          },
          "metadata": {
            "tags": []
          },
          "execution_count": 22
        }
      ]
    },
    {
      "cell_type": "markdown",
      "metadata": {
        "id": "MZADZOxO1-A5"
      },
      "source": [
        "# Evaluate the model"
      ]
    },
    {
      "cell_type": "code",
      "metadata": {
        "colab": {
          "base_uri": "https://localhost:8080/"
        },
        "id": "EbUhEDa32C_H",
        "outputId": "0b5c0f86-d13d-4f45-b213-55cb7f3531cd"
      },
      "source": [
        "def find_best_threshold():\r\n",
        "  ERROR_THRESHOLD = 0.001\r\n",
        "  accuracy,step =0,0\r\n",
        "  while step < 1:\r\n",
        "    y_pred = model.predict(X_test) > step\r\n",
        "    if metrics.accuracy_score(y_test,y_pred) > accuracy:\r\n",
        "      accuracy = metrics.accuracy_score(y_test,y_pred)\r\n",
        "      ERROR_THRESHOLD = step\r\n",
        "    step += 0.01\r\n",
        "  return ERROR_THRESHOLD\r\n",
        "ERROR_THRESHOLD = find_best_threshold()\r\n",
        "print(ERROR_THRESHOLD)"
      ],
      "execution_count": null,
      "outputs": [
        {
          "output_type": "stream",
          "text": [
            "0.20000000000000004\n"
          ],
          "name": "stdout"
        }
      ]
    },
    {
      "cell_type": "code",
      "metadata": {
        "colab": {
          "base_uri": "https://localhost:8080/"
        },
        "id": "BKmFYy_J0mHC",
        "outputId": "640e5dfa-a3ab-4e2d-c0cf-db045bf221f2"
      },
      "source": [
        "y_pred = model.predict(X_test) > ERROR_THRESHOLD\r\n",
        "metrics.accuracy_score(y_test,y_pred)"
      ],
      "execution_count": null,
      "outputs": [
        {
          "output_type": "execute_result",
          "data": {
            "text/plain": [
              "0.5855855855855856"
            ]
          },
          "metadata": {
            "tags": []
          },
          "execution_count": 24
        }
      ]
    },
    {
      "cell_type": "markdown",
      "metadata": {
        "id": "qyr_6OF22EBo"
      },
      "source": [
        "# Use the model"
      ]
    },
    {
      "cell_type": "code",
      "metadata": {
        "id": "X1S490x1O3kV"
      },
      "source": [
        "def clean_up_sentence(sentence):\r\n",
        "    sentence_words = nltk.word_tokenize(sentence)\r\n",
        "    sentence_words = [lemmatizer(word.lower()) for word in sentence_words]\r\n",
        "   \r\n",
        "    return sentence_words\r\n",
        "\r\n",
        "def bow(sentence, words, show_details=True):\r\n",
        "    \"\"\"\r\n",
        "    return bag of words array: 0 or 1 for each word in the bag that match 60% another word in the sentence\r\n",
        "    \"\"\"\r\n",
        "    # tokenize the pattern\r\n",
        "    sentence_words = clean_up_sentence(sentence)\r\n",
        "    # bag of words - matrix of N words, vocabulary matrix\r\n",
        "    bag = [0]*len(words)\r\n",
        "    for s in sentence_words:\r\n",
        "        for i,w in enumerate(words):\r\n",
        "            if w==s:\r\n",
        "                # assign 1 if current word is in the vocabulary position\r\n",
        "                bag[i] = 1\r\n",
        "                if show_details:\r\n",
        "                    print (\"found in bag: %s\" % w)\r\n",
        "    return(np.array([np.array(bag)]))\r\n",
        "\r\n",
        "def predict_class(sentence, model):\r\n",
        "    \"\"\"\r\n",
        "      looking for the class of the sentence\r\n",
        "    \"\"\"\r\n",
        "    # filter out predictions below a threshold\r\n",
        "    p = bow(sentence, words,show_details=False)\r\n",
        "    res = model.predict(p)[0]\r\n",
        "    results = [[i,r] for i,r in enumerate(res) if r>ERROR_THRESHOLD]\r\n",
        "    # sort by strength of probability\r\n",
        "    results.sort(key=lambda x: x[1], reverse=True)\r\n",
        "    return_list = []\r\n",
        "    for r in results:\r\n",
        "        return_list.append({\"intent\": classes[r[0]], \"probability\": str(r[1])})\r\n",
        "    return return_list\r\n",
        "\r\n",
        "def getResponse(ints, intents_json):\r\n",
        "    \"\"\"\r\n",
        "      search for response in the predicted class \r\n",
        "    \"\"\"\r\n",
        "    tag = ints[0]['intent']\r\n",
        "    list_of_intents = intents_json['intents']\r\n",
        "    for i in list_of_intents:\r\n",
        "        if(i['tag']== tag):\r\n",
        "            result = (random.choice(i['responses']),tag)\r\n",
        "            break\r\n",
        "    return result\r\n",
        "\r\n",
        "def chatbot_response(msg):\r\n",
        "    ints = predict_class(msg, model)\r\n",
        "    res = getResponse(ints, intents)\r\n",
        "    return res\r\n"
      ],
      "execution_count": null,
      "outputs": []
    },
    {
      "cell_type": "code",
      "metadata": {
        "colab": {
          "base_uri": "https://localhost:8080/",
          "height": 35
        },
        "id": "yLQPilAhO4qm",
        "outputId": "c0a4e61c-8c6b-406a-a916-e1a7d2decd89"
      },
      "source": [
        "resp = chatbot_response(\"slaaam\")[0]\r\n",
        "resp"
      ],
      "execution_count": null,
      "outputs": [
        {
          "output_type": "execute_result",
          "data": {
            "application/vnd.google.colaboratory.intrinsic+json": {
              "type": "string"
            },
            "text/plain": [
              "'سلااام، كي داير بيخير؟'"
            ]
          },
          "metadata": {
            "tags": []
          },
          "execution_count": 30
        }
      ]
    },
    {
      "cell_type": "code",
      "metadata": {
        "colab": {
          "base_uri": "https://localhost:8080/"
        },
        "id": "OtZ3oOJ4dugf",
        "outputId": "344886ad-eaaa-4b0a-992c-f941531cfaf3"
      },
      "source": [
        "def make_conversation():\r\n",
        "  resp = ('','')\r\n",
        "  while resp[1] != 'good_bye':\r\n",
        "    user_msg = str(input('Me:'))\r\n",
        "    resp = chatbot_response(user_msg)\r\n",
        "    print(f'chatbot:{resp[0]}')\r\n",
        "make_conversation()\r\n"
      ],
      "execution_count": null,
      "outputs": [
        {
          "output_type": "stream",
          "text": [
            "Me:السلام و عليكم\n",
            "chatbot:عليكم السلام كيف يمكنني مساعدتك\n",
            "Me:عفاك بيت نسولك\n",
            "chatbot:تقدر تسولني على أي حاجة متعلقة بفيروس كورونا :الاحصائيات ,مستجدات,و معلومات عامة عن فيروس كورونا\n",
            "Me:ok, chno hya corona ?\n",
            "chatbot:مرض كوفيد-19 هو مرض معد يسببه آخر فيروس تم اكتشافه من سلالة فيروسات كورونا. ولم يكن هناك أي علم بوجود هذا الفيروس الجديد ومرضه قبل بدء تفشيه في مدينة ووهان الصينية في كانون الأول/ ديسمبر 2019. وقد تحوّل كوفيد-19 الآن إلى جائحة تؤثر على العديد من بلدان العالم.\n",
            "Me:chokran\n",
            "chatbot:مرحبا فأي وقت\n",
            "Me:chkun nta b3da ?\n",
            "chatbot:أنا شاطبوت،تم التصنيع ديالي من طرف طلبة مهندسين و الدور ديالي نجاوب على أي تساؤل عندو علاقة بكرونا، ويلا معرفتش دبا الجواب غنعرف من بعد و اجي سولني \n",
            "Me:هههههه اوكي\n",
            "chatbot:شكرا ليك\n",
            "Me:الله اعاونك\n",
            "chatbot:مرحبا فأي وقت\n",
            "Me:yalah bye db\n",
            "chatbot:بسلامة\n"
          ],
          "name": "stdout"
        }
      ]
    }
  ]
}